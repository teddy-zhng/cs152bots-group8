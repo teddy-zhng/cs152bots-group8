{
 "cells": [
  {
   "cell_type": "code",
   "execution_count": 7,
   "id": "4c2ffccf",
   "metadata": {},
   "outputs": [],
   "source": [
    "import torch\n",
    "import torch.nn as nn\n",
    "import pandas as pd\n",
    "import numpy as np\n",
    "from transformers import BertTokenizer, BertConfig\n",
    "from transformers.modeling_outputs import SequenceClassifierOutput\n",
    "from transformers import BertPreTrainedModel, BertModel\n",
    "from tqdm import tqdm\n",
    "import os\n",
    "import safetensors.torch as st\n",
    "import matplotlib.pyplot as plt"
   ]
  },
  {
   "cell_type": "code",
   "execution_count": 2,
   "id": "30d6e8f4",
   "metadata": {},
   "outputs": [
    {
     "data": {
      "text/plain": [
       "SmallerBERTClassifier(\n",
       "  (bert): BertModel(\n",
       "    (embeddings): BertEmbeddings(\n",
       "      (word_embeddings): Embedding(30522, 768, padding_idx=0)\n",
       "      (position_embeddings): Embedding(512, 768)\n",
       "      (token_type_embeddings): Embedding(2, 768)\n",
       "      (LayerNorm): LayerNorm((768,), eps=1e-12, elementwise_affine=True)\n",
       "      (dropout): Dropout(p=0.1, inplace=False)\n",
       "    )\n",
       "    (encoder): BertEncoder(\n",
       "      (layer): ModuleList(\n",
       "        (0-11): 12 x BertLayer(\n",
       "          (attention): BertAttention(\n",
       "            (self): BertSdpaSelfAttention(\n",
       "              (query): Linear(in_features=768, out_features=768, bias=True)\n",
       "              (key): Linear(in_features=768, out_features=768, bias=True)\n",
       "              (value): Linear(in_features=768, out_features=768, bias=True)\n",
       "              (dropout): Dropout(p=0.1, inplace=False)\n",
       "            )\n",
       "            (output): BertSelfOutput(\n",
       "              (dense): Linear(in_features=768, out_features=768, bias=True)\n",
       "              (LayerNorm): LayerNorm((768,), eps=1e-12, elementwise_affine=True)\n",
       "              (dropout): Dropout(p=0.1, inplace=False)\n",
       "            )\n",
       "          )\n",
       "          (intermediate): BertIntermediate(\n",
       "            (dense): Linear(in_features=768, out_features=3072, bias=True)\n",
       "            (intermediate_act_fn): GELUActivation()\n",
       "          )\n",
       "          (output): BertOutput(\n",
       "            (dense): Linear(in_features=3072, out_features=768, bias=True)\n",
       "            (LayerNorm): LayerNorm((768,), eps=1e-12, elementwise_affine=True)\n",
       "            (dropout): Dropout(p=0.1, inplace=False)\n",
       "          )\n",
       "        )\n",
       "      )\n",
       "    )\n",
       "    (pooler): BertPooler(\n",
       "      (dense): Linear(in_features=768, out_features=768, bias=True)\n",
       "      (activation): Tanh()\n",
       "    )\n",
       "  )\n",
       "  (dropout): Dropout(p=0.4, inplace=False)\n",
       "  (classifier): Sequential(\n",
       "    (0): Linear(in_features=768, out_features=128, bias=True)\n",
       "    (1): ReLU()\n",
       "    (2): Dropout(p=0.3, inplace=False)\n",
       "    (3): Linear(in_features=128, out_features=2, bias=True)\n",
       "  )\n",
       ")"
      ]
     },
     "execution_count": 2,
     "metadata": {},
     "output_type": "execute_result"
    }
   ],
   "source": [
    "# Model definition (copied from main.py)\n",
    "class SmallerBERTClassifier(BertPreTrainedModel):\n",
    "    def __init__(self, config):\n",
    "        super().__init__(config)\n",
    "        self.bert = BertModel(config)\n",
    "        self.dropout = nn.Dropout(0.4)\n",
    "        self.classifier = nn.Sequential(\n",
    "            nn.Linear(config.hidden_size, 128),\n",
    "            nn.ReLU(),\n",
    "            nn.Dropout(0.3),\n",
    "            nn.Linear(128, config.num_labels)\n",
    "        )\n",
    "\n",
    "    def forward(self, input_ids=None, attention_mask=None, token_type_ids=None, labels=None):\n",
    "        outputs = self.bert(input_ids=input_ids, attention_mask=attention_mask, token_type_ids=token_type_ids)\n",
    "        pooled = self.dropout(outputs.pooler_output)\n",
    "        logits = self.classifier(pooled)\n",
    "        return SequenceClassifierOutput(\n",
    "            loss=None,\n",
    "            logits=logits,\n",
    "            hidden_states=outputs.hidden_states,\n",
    "            attentions=outputs.attentions\n",
    "        )\n",
    "\n",
    "# Paths\n",
    "MODEL_DIR = \"saved_liar_bert_model\"\n",
    "WEIGHTS_PATH = os.path.join(MODEL_DIR, \"model.safetensors\")\n",
    "TSV_PATH = \"../../LIAR-PLUS-master/dataset/tsv/train2.tsv\"\n",
    "OUTPUT_CSV = \"train2_preds.csv\"\n",
    "\n",
    "# Load tokenizer and model\n",
    "tokenizer = BertTokenizer.from_pretrained(MODEL_DIR)\n",
    "config = BertConfig.from_pretrained(MODEL_DIR)\n",
    "model = SmallerBERTClassifier(config)\n",
    "\n",
    "# Load weights from safetensors\n",
    "state_dict = st.load_file(WEIGHTS_PATH)\n",
    "model.load_state_dict(state_dict)\n",
    "model.eval()"
   ]
  },
  {
   "cell_type": "code",
   "execution_count": 105,
   "id": "be37e2be",
   "metadata": {},
   "outputs": [
    {
     "name": "stdout",
     "output_type": "stream",
     "text": [
      "0 0.5125752687454224\n"
     ]
    }
   ],
   "source": [
    "import numpy as np\n",
    "\n",
    "statement = \"When Obama was sworn into office, he DID NOT use the Holy Bible, but instead the Kuran (Their equivalency to our Bible, but very different beliefs).\"\n",
    "justification = \"Ellison used a Koran that once belonged to Thomas Jefferson, borrowing the rare book from the Library of Congress. It goes without saying that Ellison is not Obama. UPDATE:  Barack Obama  resigned from Trinity United Church of Christ  on May 31, 2008, after church pastor Jeremiah A.  Wright Jr.  made controversial remarks about U. S.  foreign policy and other matters.\"\n",
    "\n",
    "# Ensure both are strings and handle NaN\n",
    "if not isinstance(statement, str):\n",
    "    statement = \"\" if pd.isna(statement) else str(statement)\n",
    "if not isinstance(justification, str):\n",
    "    justification = \"\" if pd.isna(justification) else str(justification)\n",
    "\n",
    "# Tokenize as in main.py\n",
    "inputs = tokenizer(\n",
    "    statement,\n",
    "    justification,\n",
    "    return_tensors=\"pt\",\n",
    "    truncation=True,\n",
    "    padding=True,\n",
    "    max_length=256\n",
    ")\n",
    "\n",
    "with torch.no_grad():\n",
    "    outputs = model(**inputs)\n",
    "    probs = torch.softmax(outputs.logits, dim=1).squeeze()\n",
    "    prediction = torch.argmax(probs).item()\n",
    "    confidence = probs[prediction].item()\n",
    "\n",
    "print(prediction, confidence)"
   ]
  },
  {
   "cell_type": "code",
   "execution_count": 3,
   "id": "816c4026",
   "metadata": {},
   "outputs": [],
   "source": [
    "df_val = pd.read_csv(\"val2_preds.csv\")\n",
    "df_train = pd.read_csv(\"train2_preds.csv\")\n",
    "df_test = pd.read_csv(\"test2_preds.csv\")"
   ]
  },
  {
   "cell_type": "code",
   "execution_count": 8,
   "id": "70a62d73",
   "metadata": {},
   "outputs": [
    {
     "data": {
      "text/plain": [
       "<matplotlib.legend.Legend at 0x31a7c3e50>"
      ]
     },
     "execution_count": 8,
     "metadata": {},
     "output_type": "execute_result"
    },
    {
     "data": {
      "image/png": "[encoded data removed]",
      "text/plain": [
       "<Figure size 640x480 with 1 Axes>"
      ]
     },
     "metadata": {},
     "output_type": "display_data"
    }
   ],
   "source": [
    "plt.hist(df_val[\"confidence_score\"][df_val[\"prediction\"] == \"misinfo\"], bins=np.linspace(0.5, 0.8, 40), alpha=0.5, label=\"misinfo\")\n",
    "plt.hist(df_val[\"confidence_score\"][df_val[\"prediction\"] == \"not misinfo\"], bins=np.linspace(0.5, 0.8, 40), alpha=0.5, label=\"not misinfo\")\n",
    "plt.xlabel(\"Confidence Score\")\n",
    "plt.ylabel(\"Count\")\n",
    "plt.legend()"
   ]
  },
  {
   "cell_type": "code",
   "execution_count": 4,
   "id": "01c11487",
   "metadata": {},
   "outputs": [],
   "source": [
    "misinfo_labels = [\"pants-fire\", \"false\", \"barely-true\"]\n",
    "not_misinfo_labels = [\"half-true\", \"mostly-true\", \"true\"]\n",
    "\n",
    "def assign_label(row):\n",
    "    if row[\"col2\"] in misinfo_labels:\n",
    "        return \"misinfo\"\n",
    "    elif row[\"col2\"] in not_misinfo_labels:\n",
    "        return \"not misinfo\"\n",
    "    else:\n",
    "        return None\n",
    "\n",
    "for df_name in [\"df_train\", \"df_val\", \"df_test\"]:\n",
    "    df_obj = globals()[df_name]\n",
    "    df_obj[\"label\"] = df_obj.apply(assign_label, axis=1)"
   ]
  },
  {
   "cell_type": "code",
   "execution_count": 5,
   "id": "75ddfdff",
   "metadata": {},
   "outputs": [
    {
     "name": "stdout",
     "output_type": "stream",
     "text": [
      "=== Train ===\n",
      "Confusion Matrix:\n",
      "[[660 189]\n",
      " [218 433]]\n",
      "Precision: 0.6961\n",
      "Recall:    0.6651\n",
      "Accuracy:  0.7287\n",
      "\n",
      "=== Validation ===\n",
      "Confusion Matrix:\n",
      "[[461 207]\n",
      " [277 339]]\n",
      "Precision: 0.6209\n",
      "Recall:    0.5503\n",
      "Accuracy:  0.6231\n",
      "\n",
      "=== Test ===\n",
      "Confusion Matrix:\n",
      "[[479 235]\n",
      " [245 308]]\n",
      "Precision: 0.5672\n",
      "Recall:    0.5570\n",
      "Accuracy:  0.6212\n",
      "\n"
     ]
    }
   ],
   "source": [
    "from sklearn.metrics import confusion_matrix, precision_score, recall_score, accuracy_score\n",
    "\n",
    "def print_metrics(df, name):\n",
    "    y_true = (df[\"label\"] == \"misinfo\").astype(int)\n",
    "    y_pred = (df[\"prediction\"] == \"misinfo\").astype(int)\n",
    "    cm = confusion_matrix(y_true, y_pred)\n",
    "    precision = precision_score(y_true, y_pred, zero_division=0)\n",
    "    recall = recall_score(y_true, y_pred, zero_division=0)\n",
    "    accuracy = accuracy_score(y_true, y_pred)\n",
    "    print(f\"=== {name} ===\")\n",
    "    print(\"Confusion Matrix:\")\n",
    "    print(cm)\n",
    "    print(f\"Precision: {precision:.4f}\")\n",
    "    print(f\"Recall:    {recall:.4f}\")\n",
    "    print(f\"Accuracy:  {accuracy:.4f}\\n\")\n",
    "\n",
    "print_metrics(df_train, \"Train\")\n",
    "print_metrics(df_val, \"Validation\")\n",
    "print_metrics(df_test, \"Test\")"
   ]
  },
  {
   "cell_type": "code",
   "execution_count": null,
   "id": "77e96146",
   "metadata": {},
   "outputs": [],
   "source": []
  }
 ],
 "metadata": {
  "kernelspec": {
   "display_name": "152_classifier",
   "language": "python",
   "name": "python3"
  },
  "language_info": {
   "codemirror_mode": {
    "name": "ipython",
    "version": 3
   },
   "file_extension": ".py",
   "mimetype": "text/x-python",
   "name": "python",
   "nbconvert_exporter": "python",
   "pygments_lexer": "ipython3",
   "version": "3.10.16"
  }
 },
 "nbformat": 4,
 "nbformat_minor": 5
}
